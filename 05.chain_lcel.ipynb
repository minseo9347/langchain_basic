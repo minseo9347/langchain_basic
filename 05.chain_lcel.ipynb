{
 "cells": [
  {
   "cell_type": "markdown",
   "id": "c89cabf8",
   "metadata": {},
   "source": [
    "\n",
    "# LCEL(LangChain Expression Language)\n",
    "- LCEL : 프롬프트 → LLM —> chain —> 프롬프트로 연결됨\n",
    "- LCEL의 목표는 LangChain 사용자가 복잡한 데이터 흐름과 AI 작업을 보다 직관적으로 구현할 수 있도록 하는 것"
   ]
  },
  {
   "cell_type": "code",
   "execution_count": 3,
   "id": "ed8cc2cc",
   "metadata": {},
   "outputs": [],
   "source": [
    "from dotenv import load_dotenv\n",
    "import os\n",
    "\n",
    "load_dotenv()\n",
    "api_key = os.environ[\"OPENAI_API_KEY\"]\n",
    "\n",
    "from langchain_openai import ChatOpenAI\n",
    "\n",
    "# llm = ChatOpenAI(model=\"gpt-4o\", api_key=api_key)\n",
    "llm = ChatOpenAI(model=\"gpt-3.5-turbo-0125\", api_key=api_key)"
   ]
  },
  {
   "cell_type": "markdown",
   "id": "4bbe9ef8",
   "metadata": {},
   "source": [
    "# 프롬프트 정의"
   ]
  },
  {
   "cell_type": "code",
   "execution_count": 4,
   "id": "2eb2dff2",
   "metadata": {},
   "outputs": [],
   "source": [
    "from langchain.prompts import PromptTemplate\n",
    "from langchain.chains import LLMChain\n",
    "\n",
    "prompt = PromptTemplate.from_template('{city}에서 가장 유명한 랜드마크는 무엇인가요?')"
   ]
  },
  {
   "cell_type": "code",
   "execution_count": 5,
   "id": "bd5abac2",
   "metadata": {},
   "outputs": [
    {
     "name": "stderr",
     "output_type": "stream",
     "text": [
      "/var/folders/19/rx9v5nfx6mvgj7s4njrn8yzm0000gn/T/ipykernel_38543/2676035287.py:1: LangChainDeprecationWarning: The class `LLMChain` was deprecated in LangChain 0.1.17 and will be removed in 1.0. Use :meth:`~RunnableSequence, e.g., `prompt | llm`` instead.\n",
      "  chain = LLMChain(llm=llm, prompt=prompt)\n"
     ]
    },
    {
     "data": {
      "text/plain": [
       "{'city': '파리',\n",
       " 'text': '파리에서 가장 유명한 랜드마크는 에펠탑(Eiffel Tower)입니다. 에펠탑은 프랑스의 수도인 파리를 대표하는 상징적인 건물로, 세계적으로 유명한 관광지로 알려져 있습니다. 현재는 파리의 랜드마크로서만 아니라 세계 7대 현대 미래 건축물 중 하나로도 손꼽히고 있습니다. 에펠탑은 1889년 파리 만백주년 기념으로 건설된 것으로, 그 특이한 디자인과 아름다운 야경은 매년 수백만의 관광객을 끌어모으고 있습니다.'}"
      ]
     },
     "execution_count": 5,
     "metadata": {},
     "output_type": "execute_result"
    }
   ],
   "source": [
    "chain = LLMChain(llm=llm, prompt=prompt)\n",
    "chain.invoke({'city':'파리'})"
   ]
  },
  {
   "cell_type": "markdown",
   "id": "cf5c4e6c",
   "metadata": {},
   "source": [
    "- LCEL(LCEL(LangChain Expression Language)) 형태로 전환함"
   ]
  },
  {
   "cell_type": "code",
   "execution_count": 7,
   "id": "042719c5",
   "metadata": {},
   "outputs": [
    {
     "data": {
      "text/plain": [
       "AIMessage(content='파리에서 가장 유명한 랜드마크는 에펠 탑입니다. 에펠 탑은 프랑스의 수도인 파리의 상징이자 세계적인 관광 명소로 유명하며, 매년 많은 관광객들이 방문합니다. 1889년에 건설된 이 탑은 현재도 파리의 스카이라인을 장식하고 있습니다.', additional_kwargs={'refusal': None}, response_metadata={'token_usage': {'completion_tokens': 126, 'prompt_tokens': 33, 'total_tokens': 159, 'completion_tokens_details': {'accepted_prediction_tokens': 0, 'audio_tokens': 0, 'reasoning_tokens': 0, 'rejected_prediction_tokens': 0}, 'prompt_tokens_details': {'audio_tokens': 0, 'cached_tokens': 0}}, 'model_name': 'gpt-3.5-turbo-0125', 'system_fingerprint': None, 'id': 'chatcmpl-BgRqrkqYJOKbT2z9unFFaEeTa3dcY', 'service_tier': 'default', 'finish_reason': 'stop', 'logprobs': None}, id='run--83344908-959c-4a6b-a1ef-3b181b3aa05c-0', usage_metadata={'input_tokens': 33, 'output_tokens': 126, 'total_tokens': 159, 'input_token_details': {'audio': 0, 'cache_read': 0}, 'output_token_details': {'audio': 0, 'reasoning': 0}})"
      ]
     },
     "execution_count": 7,
     "metadata": {},
     "output_type": "execute_result"
    }
   ],
   "source": [
    "chain = prompt | llm\n",
    "chain.invoke({'city':'파리'})"
   ]
  },
  {
   "cell_type": "markdown",
   "id": "549708af",
   "metadata": {},
   "source": [
    "# SequentialChain 객체 활용\n",
    "- 첫번째 프롬프트의 결과 값이 두 번째 프롬프트의 입력으로 들어가야 하는 것이 기본인데, 두 번 호출하지 않고 하나의 chain으로 만들 수 있습니다."
   ]
  },
  {
   "cell_type": "code",
   "execution_count": 8,
   "id": "dedc33c7",
   "metadata": {},
   "outputs": [],
   "source": [
    "from langchain.chains import SequentialChain\n",
    "\n",
    "# citydhk transport 는 결과\n",
    "# landmark는 첫번째 prompt의 결과값으로 사용해야 하므로, \n",
    "# 가져올 때 오직 지역의 랜드마크 이름만 가져오도록 만들어야 함\n",
    "prompt_1 = PromptTemplate.from_template('{city}에서 가장 유명한 랜드마크는 무엇인가요? 설명은 필요없고 딱 이름 하나만 알려주세요')\n",
    "prompt_2 = PromptTemplate.from_template('{landmark}에 {transport}로 가려면 어떻게 가나요?')\n",
    "\n",
    "# prompt_1은 city를 입력으로 받고, landmark를 출력, 그 output_key가 protmpt_2의 landmark에 대입됨\n",
    "chain_1 = LLMChain(llm=llm, prompt=prompt_1, output_key='landmark', verbose=True) #verbose=True로 하면 결과값을 출력해줌\n",
    "chain_2 = LLMChain(llm=llm, prompt=prompt_2)"
   ]
  },
  {
   "cell_type": "code",
   "execution_count": 10,
   "id": "b25e1fca",
   "metadata": {},
   "outputs": [
    {
     "name": "stdout",
     "output_type": "stream",
     "text": [
      "\n",
      "\n",
      "\u001b[1m> Entering new LLMChain chain...\u001b[0m\n",
      "Prompt after formatting:\n",
      "\u001b[32;1m\u001b[1;3m서울에서 가장 유명한 랜드마크는 무엇인가요? 설명은 필요없고 딱 이름 하나만 알려주세요\u001b[0m\n",
      "\n",
      "\u001b[1m> Finished chain.\u001b[0m\n"
     ]
    }
   ],
   "source": [
    "chain = SequentialChain(chains=[chain_1, chain_2], \n",
    "                         input_variables=['city', 'transport'])\n",
    "\n",
    "# 딕셔너리로 넣기\n",
    "response = chain.invoke({'city':'서울', 'transport':'지하철'})"
   ]
  },
  {
   "cell_type": "code",
   "execution_count": 11,
   "id": "27b9a252",
   "metadata": {},
   "outputs": [
    {
     "data": {
      "text/plain": [
       "{'city': '서울',\n",
       " 'transport': '지하철',\n",
       " 'text': '롯데월드로 지하철로 가는 방법은 다음과 같습니다.\\n\\n1. 주변에 가장 가까운 지하철역을 찾습니다. (예: 잠실역, 잠실새내역)\\n2. 해당 역에서 2호선에 승차합니다.\\n3. 잠실역인 경우 2호선을 타고 잠실역에서 하차하고 2번 출구로 나와 롯데월드로 바로 이동이 가능합니다.\\n4. 잠실새내역인 경우 2호선을 타고 잠실새내역에서 하차하고 9번 출구로 나와 롯데월드로 이동합니다.\\n\\n지하철로 이동 시 해당 역에서 어떤 출구로 나가야 하는지, 환승해야 하는 노선이 있는지 등을 미리 확인하고 이동하시면 더 편리하게 롯데월드에 도착할 수 있습니다.'}"
      ]
     },
     "execution_count": 11,
     "metadata": {},
     "output_type": "execute_result"
    }
   ],
   "source": [
    "response"
   ]
  },
  {
   "cell_type": "code",
   "execution_count": null,
   "id": "71a5b0b4",
   "metadata": {},
   "outputs": [],
   "source": []
  }
 ],
 "metadata": {
  "kernelspec": {
   "display_name": "lc_env",
   "language": "python",
   "name": "python3"
  },
  "language_info": {
   "codemirror_mode": {
    "name": "ipython",
    "version": 3
   },
   "file_extension": ".py",
   "mimetype": "text/x-python",
   "name": "python",
   "nbconvert_exporter": "python",
   "pygments_lexer": "ipython3",
   "version": "3.12.11"
  }
 },
 "nbformat": 4,
 "nbformat_minor": 5
}
