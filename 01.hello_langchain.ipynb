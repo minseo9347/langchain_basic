{
 "cells": [
  {
   "cell_type": "markdown",
   "id": "53f8ac60",
   "metadata": {},
   "source": [
    "# langchain 테스트"
   ]
  },
  {
   "cell_type": "code",
   "execution_count": 1,
   "id": "52ef1ade",
   "metadata": {},
   "outputs": [],
   "source": [
    "import langchain"
   ]
  },
  {
   "cell_type": "code",
   "execution_count": 2,
   "id": "63a01437",
   "metadata": {},
   "outputs": [
    {
     "data": {
      "text/plain": [
       "'0.3.25'"
      ]
     },
     "execution_count": 2,
     "metadata": {},
     "output_type": "execute_result"
    }
   ],
   "source": [
    "langchain.__version__"
   ]
  },
  {
   "cell_type": "code",
   "execution_count": 5,
   "id": "7a7385bd",
   "metadata": {},
   "outputs": [],
   "source": [
    "from dotenv import load_dotenv\n",
    "import os\n",
    "\n",
    "load_dotenv('.env', override=True)\n",
    "OPEN_API_KEY = os.environ[\"OPENAI_API_KEY\"]"
   ]
  },
  {
   "cell_type": "markdown",
   "id": "cfb790cb",
   "metadata": {},
   "source": [
    "# 오픈Ai 모델 사용"
   ]
  },
  {
   "cell_type": "code",
   "execution_count": 6,
   "id": "f5c8cd9a",
   "metadata": {},
   "outputs": [
    {
     "data": {
      "text/plain": [
       "ChatOpenAI(client=<openai.resources.chat.completions.completions.Completions object at 0x1260ec140>, async_client=<openai.resources.chat.completions.completions.AsyncCompletions object at 0x126180260>, root_client=<openai.OpenAI object at 0x124dc7650>, root_async_client=<openai.AsyncOpenAI object at 0x1260c2c60>, model_name='gpt-4o', model_kwargs={}, openai_api_key=SecretStr('**********'))"
      ]
     },
     "execution_count": 6,
     "metadata": {},
     "output_type": "execute_result"
    }
   ],
   "source": [
    "from langchain_openai import ChatOpenAI\n",
    "\n",
    "llm = ChatOpenAI(model=\"gpt-4o\")\n",
    "llm"
   ]
  },
  {
   "cell_type": "code",
   "execution_count": 7,
   "id": "bae9e2da",
   "metadata": {},
   "outputs": [],
   "source": [
    "# 메시지는 list, list의 요소는 tuple 구조로\n",
    "messages = [\n",
    "    (\"system\", \"당신은 서울의 음시과 문화 전문가 입니다.\"),\n",
    "    (\"human\", \"서울을 대표하는 음식을 맛볼 수 있는 레스토랑 5개를 추천해줘.\")\n",
    "]\n",
    "\n",
    "res = llm.invoke(messages)"
   ]
  },
  {
   "cell_type": "code",
   "execution_count": 8,
   "id": "4ee35acf",
   "metadata": {},
   "outputs": [
    {
     "name": "stdout",
     "output_type": "stream",
     "text": [
      "서울에는 다양한 전통 음식과 현대적인 퓨전 요리를 맛볼 수 있는 레스토랑이 많이 있습니다. 다음은 서울을 대표하는 음식을 맛볼 수 있는 추천 레스토랑 다섯 곳입니다:\n",
      "\n",
      "1. **양반** - 전통 한정식을 맛볼 수 있는 곳으로, 깔끔하고 정갈한 한식을 제공합니다. 제철 재료를 사용한 다양한 밑반찬과 한우구이가 특히 유명합니다.\n",
      "\n",
      "2. **명동 교자** - 명동에 위치한 이곳은 칼국수와 만두로 유명합니다. 진한 육수와 쫄깃한 면발, 수제 만두가 조화를 이루며 많은 이들의 사랑을 받고 있습니다.\n",
      "\n",
      "3. **새벽집** - 강남에 위치한 한우 전문점으로, 24시간 운영하며 언제든지 한우의 진수를 맛볼 수 있습니다. 특히 육회비빔밥과 소고기 전골이 추천 메뉴입니다.\n",
      "\n",
      "4. **봉피양** - 한국 전통 불고기를 맛볼 수 있는 곳으로 유명합니다. 서울에서 몇 안 되는 숯불향 가득한 불고기를 경험할 수 있습니다. 이외에도 냉면도 인기가 많습니다.\n",
      "\n",
      "5. **도씨족발** - 족발을 좋아한다면 이곳이 제격입니다. 도씨족발은 기본 족발뿐 아니라 다양한 맛을 추가한 족발 메뉴가 많아 선택의 폭이 넓습니다.\n",
      "\n",
      "서울은 다양한 음식 문화가 공존하는 도시이므로, 이 외에도 많은 레스토랑들이 있으니 여러 군데를 방문해보시는 것도 좋습니다!\n"
     ]
    }
   ],
   "source": [
    "print(res.content)"
   ]
  },
  {
   "cell_type": "markdown",
   "id": "0b555c17",
   "metadata": {},
   "source": [
    "# Gemini API"
   ]
  },
  {
   "cell_type": "code",
   "execution_count": 17,
   "id": "0940685b",
   "metadata": {},
   "outputs": [],
   "source": [
    "from langchain_google_genai import ChatGoogleGenerativeAI\n",
    "\n",
    "\n",
    "llm_gemini = ChatGoogleGenerativeAI(\n",
    "    api_key=os.environ[\"GEMINI_API_KEY\"],  # Google Gemini API 키\n",
    "    model=\"gemini-2.0-flash\",  # 또는 gemini-pro-vision 등\n",
    "    temperature=0.3\n",
    ")"
   ]
  },
  {
   "cell_type": "code",
   "execution_count": 18,
   "id": "ccf3fcbe",
   "metadata": {},
   "outputs": [],
   "source": [
    "# 메시지는 list, list의 요소는 tuple 구조로\n",
    "messages = [\n",
    "    (\"system\", \"당신은 서울의 음시과 문화 전문가 입니다.\"),\n",
    "    (\"human\", \"서울을 대표하는 음식을 맛볼 수 있는 레스토랑 5개를 추천해줘.\")\n",
    "]\n",
    "\n",
    "res = llm_gemini.invoke(messages)"
   ]
  },
  {
   "cell_type": "code",
   "execution_count": 19,
   "id": "030eb700",
   "metadata": {},
   "outputs": [
    {
     "name": "stdout",
     "output_type": "stream",
     "text": [
      "네, 서울 음식과 문화 전문가로서 서울을 대표하는 음식을 맛볼 수 있는 훌륭한 레스토랑 5곳을 추천해 드립니다. 각 레스토랑은 고유한 매력과 깊은 역사를 자랑하며, 서울의 맛을 제대로 경험할 수 있는 곳들입니다.\n",
      "\n",
      "1.  **미쉐린 2스타, \"밍글스\" (Mingles):**\n",
      "    *   **특징:** 한식의 전통적인 요소를 현대적으로 재해석하여 창의적인 요리를 선보이는 곳입니다. 제철 식재료를 사용하여 맛과 향이 뛰어나며, 아름다운 플레이팅은 눈까지 즐겁게 합니다.\n",
      "    *   **추천 메뉴:** 런치 코스, 디너 코스 (계절에 따라 메뉴가 변경됩니다.)\n",
      "    *   **분위기:** 고급스럽고 세련된 분위기로, 특별한 날을 기념하기에 좋습니다.\n",
      "    *   **주소:** 서울 강남구 도산대로67길 19\n",
      "2.  **미쉐린 1스타, \"주옥\" (Joo Ok):**\n",
      "    *   **특징:** 한국의 전통 장과 발효 기술을 기반으로 한 독창적인 한식을 제공합니다. 섬세한 맛과 향은 물론, 건강까지 생각한 요리를 맛볼 수 있습니다.\n",
      "    *   **추천 메뉴:** 런치 코스, 디너 코스 (계절에 따라 메뉴가 변경됩니다.) 특히, '참기름 아이스크림'은 꼭 맛봐야 할 메뉴입니다.\n",
      "    *   **분위기:** 차분하고 정갈한 분위기에서 편안하게 식사를 즐길 수 있습니다.\n",
      "    *   **주소:** 서울 강남구 신사동 651-3\n",
      "3.  **\"광장시장\":**\n",
      "    *   **특징:** 서울의 대표적인 전통 시장으로, 다양한 길거리 음식을 저렴한 가격에 맛볼 수 있습니다. 특히, '빈대떡', '마약김밥', '육회'는 꼭 먹어봐야 할 메뉴입니다.\n",
      "    *   **추천 메뉴:** 빈대떡, 마약김밥, 육회, 떡볶이, 순대 등\n",
      "    *   **분위기:** 활기 넘치고 북적이는 분위기 속에서 서울 시민들의 삶을 느껴볼 수 있습니다.\n",
      "    *   **주소:** 서울 종로구 창경궁로 88\n",
      "4.  **\"용수산\":**\n",
      "    *   **특징:** 개성 음식을 전문으로 하는 곳으로, 궁중 요리 스타일의 고급스러운 음식을 맛볼 수 있습니다. 특히, '어복쟁반', '대구 맑은탕'은 용수산의 대표 메뉴입니다.\n",
      "    *   **추천 메뉴:** 어복쟁반, 대구 맑은탕, 평양냉면\n",
      "    *   **분위기:** 전통적인 분위기의 인테리어와 정갈한 서비스가 돋보입니다.\n",
      "    *   **주소:** 서울 강남구 압구정로60길 39\n",
      "5.  **\"황생가칼국수\":**\n",
      "    *   **특징:** 60년 전통의 칼국수 전문점으로, 깊고 진한 육수와 쫄깃한 면발이 일품입니다. 특히, '사골 칼국수'는 황생가칼국수의 대표 메뉴입니다.\n",
      "    *   **추천 메뉴:** 사골 칼국수, 해물파전, 도토리묵\n",
      "    *   **분위기:** 소박하고 편안한 분위기에서 부담 없이 식사를 즐길 수 있습니다.\n",
      "    *   **주소:** 서울 종로구 소격동 84\n",
      "\n",
      "이 외에도 서울에는 다양한 종류의 맛집들이 많으니, 취향에 따라 선택하여 즐거운 식도락 여행을 즐기시길 바랍니다. 혹시 특정 음식이나 분위기를 선호하신다면, 더욱 자세한 추천도 가능합니다.\n"
     ]
    }
   ],
   "source": [
    "print(res.content)"
   ]
  },
  {
   "cell_type": "code",
   "execution_count": null,
   "id": "32d3571a",
   "metadata": {},
   "outputs": [],
   "source": []
  }
 ],
 "metadata": {
  "kernelspec": {
   "display_name": "lc_env",
   "language": "python",
   "name": "python3"
  },
  "language_info": {
   "codemirror_mode": {
    "name": "ipython",
    "version": 3
   },
   "file_extension": ".py",
   "mimetype": "text/x-python",
   "name": "python",
   "nbconvert_exporter": "python",
   "pygments_lexer": "ipython3",
   "version": "3.12.11"
  }
 },
 "nbformat": 4,
 "nbformat_minor": 5
}
