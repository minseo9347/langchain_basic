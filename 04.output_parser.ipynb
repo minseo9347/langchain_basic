{
 "cells": [
  {
   "cell_type": "markdown",
   "id": "7fc570ff",
   "metadata": {},
   "source": [
    "# LLM 응답 객체 생성\n",
    "- API key 로딩"
   ]
  },
  {
   "cell_type": "code",
   "execution_count": 4,
   "id": "d5116150",
   "metadata": {},
   "outputs": [],
   "source": [
    "from dotenv import load_dotenv\n",
    "import os\n",
    "\n",
    "load_dotenv()\n",
    "api_key = os.environ[\"OPENAI_API_KEY\"]\n",
    "\n",
    "from langchain_openai import ChatOpenAI\n",
    "\n",
    "# llm = ChatOpenAI(model=\"gpt-4o\", api_key=api_key)\n",
    "llm = ChatOpenAI(model=\"gpt-3.5-turbo-0125\", api_key=api_key)"
   ]
  },
  {
   "cell_type": "code",
   "execution_count": 5,
   "id": "cbbcf748",
   "metadata": {},
   "outputs": [],
   "source": [
    "from langchain_core.output_parsers import JsonOutputParser\n",
    "from langchain_core.prompts import PromptTemplate\n",
    "from pydantic import BaseModel, Field"
   ]
  },
  {
   "cell_type": "markdown",
   "id": "c44a93fc",
   "metadata": {},
   "source": [
    "# 응답 객체 생성"
   ]
  },
  {
   "cell_type": "code",
   "execution_count": 6,
   "id": "b557207e",
   "metadata": {},
   "outputs": [],
   "source": [
    "# BaseModel 상속 받기\n",
    "class EmailParser(BaseModel):\n",
    "    sender_name: str = Field(description=\"이메일 송신자명\")\n",
    "    title: str = Field(description=\"이메일 제목\")\n",
    "    content: str = Field(description=\"이메일 내용\")"
   ]
  },
  {
   "cell_type": "markdown",
   "id": "d3d36c90",
   "metadata": {},
   "source": [
    "# outputparser 객체 생성"
   ]
  },
  {
   "cell_type": "code",
   "execution_count": 7,
   "id": "69cc12da",
   "metadata": {},
   "outputs": [
    {
     "data": {
      "text/plain": [
       "JsonOutputParser(pydantic_object=<class '__main__.EmailParser'>)"
      ]
     },
     "execution_count": 7,
     "metadata": {},
     "output_type": "execute_result"
    }
   ],
   "source": [
    "parser = JsonOutputParser(pydantic_object=EmailParser)\n",
    "parser"
   ]
  },
  {
   "cell_type": "markdown",
   "id": "e6e0f18a",
   "metadata": {},
   "source": [
    "# format 명령 확인"
   ]
  },
  {
   "cell_type": "code",
   "execution_count": 8,
   "id": "900a4828",
   "metadata": {},
   "outputs": [
    {
     "name": "stdout",
     "output_type": "stream",
     "text": [
      "The output should be formatted as a JSON instance that conforms to the JSON schema below.\n",
      "\n",
      "As an example, for the schema {\"properties\": {\"foo\": {\"title\": \"Foo\", \"description\": \"a list of strings\", \"type\": \"array\", \"items\": {\"type\": \"string\"}}}, \"required\": [\"foo\"]}\n",
      "the object {\"foo\": [\"bar\", \"baz\"]} is a well-formatted instance of the schema. The object {\"properties\": {\"foo\": [\"bar\", \"baz\"]}} is not well-formatted.\n",
      "\n",
      "Here is the output schema:\n",
      "```\n",
      "{\"properties\": {\"sender_name\": {\"description\": \"이메일 송신자명\", \"title\": \"Sender Name\", \"type\": \"string\"}, \"title\": {\"description\": \"이메일 제목\", \"title\": \"Title\", \"type\": \"string\"}, \"content\": {\"description\": \"이메일 내용\", \"title\": \"Content\", \"type\": \"string\"}}, \"required\": [\"sender_name\", \"title\", \"content\"]}\n",
      "```\n"
     ]
    }
   ],
   "source": [
    "print(parser.get_format_instructions())"
   ]
  },
  {
   "cell_type": "markdown",
   "id": "f608ed19",
   "metadata": {},
   "source": [
    "# 템플릿 객체 생성"
   ]
  },
  {
   "cell_type": "code",
   "execution_count": 10,
   "id": "86b9f6a3",
   "metadata": {},
   "outputs": [
    {
     "data": {
      "text/plain": [
       "PromptTemplate(input_variables=['email'], input_types={}, partial_variables={'format_instructions': 'The output should be formatted as a JSON instance that conforms to the JSON schema below.\\n\\nAs an example, for the schema {\"properties\": {\"foo\": {\"title\": \"Foo\", \"description\": \"a list of strings\", \"type\": \"array\", \"items\": {\"type\": \"string\"}}}, \"required\": [\"foo\"]}\\nthe object {\"foo\": [\"bar\", \"baz\"]} is a well-formatted instance of the schema. The object {\"properties\": {\"foo\": [\"bar\", \"baz\"]}} is not well-formatted.\\n\\nHere is the output schema:\\n```\\n{\"properties\": {\"sender_name\": {\"description\": \"이메일 송신자명\", \"title\": \"Sender Name\", \"type\": \"string\"}, \"title\": {\"description\": \"이메일 제목\", \"title\": \"Title\", \"type\": \"string\"}, \"content\": {\"description\": \"이메일 내용\", \"title\": \"Content\", \"type\": \"string\"}}, \"required\": [\"sender_name\", \"title\", \"content\"]}\\n```'}, template='이메일을 읽고 요약해 주세요.\\n{format_instructions}\\n{email}\\n')"
      ]
     },
     "execution_count": 10,
     "metadata": {},
     "output_type": "execute_result"
    }
   ],
   "source": [
    "prompt_template = PromptTemplate(\n",
    "    template=\"이메일을 읽고 요약해 주세요.\\n{format_instructions}\\n{email}\\n\",\n",
    "    input_variables=[\"email\"],\n",
    "    partial_variables={\"format_instructions\": parser.get_format_instructions()},\n",
    ")\n",
    "prompt_template"
   ]
  },
  {
   "cell_type": "code",
   "execution_count": 11,
   "id": "be507a65",
   "metadata": {},
   "outputs": [
    {
     "name": "stdout",
     "output_type": "stream",
     "text": [
      "이메일을 읽고 요약해 주세요.\n",
      "The output should be formatted as a JSON instance that conforms to the JSON schema below.\n",
      "\n",
      "As an example, for the schema {\"properties\": {\"foo\": {\"title\": \"Foo\", \"description\": \"a list of strings\", \"type\": \"array\", \"items\": {\"type\": \"string\"}}}, \"required\": [\"foo\"]}\n",
      "the object {\"foo\": [\"bar\", \"baz\"]} is a well-formatted instance of the schema. The object {\"properties\": {\"foo\": [\"bar\", \"baz\"]}} is not well-formatted.\n",
      "\n",
      "Here is the output schema:\n",
      "```\n",
      "{\"properties\": {\"sender_name\": {\"description\": \"이메일 송신자명\", \"title\": \"Sender Name\", \"type\": \"string\"}, \"title\": {\"description\": \"이메일 제목\", \"title\": \"Title\", \"type\": \"string\"}, \"content\": {\"description\": \"이메일 내용\", \"title\": \"Content\", \"type\": \"string\"}}, \"required\": [\"sender_name\", \"title\", \"content\"]}\n",
      "```\n",
      "보내는 사람: 김철수\n",
      "제목: 오늘의 회의록\n",
      "내용: 오늘 회의록을 보내드립니다. 내용은 첨부파일을 확인해 주세요.\n",
      "\n"
     ]
    }
   ],
   "source": [
    "# email 매개변수 넘김\n",
    "prompt = prompt_template.format(email=\"보내는 사람: 김철수\\n제목: 오늘의 회의록\\n내용: 오늘 회의록을 보내드립니다. 내용은 첨부파일을 확인해 주세요.\")\n",
    "print(prompt)"
   ]
  },
  {
   "cell_type": "markdown",
   "id": "dacb11e5",
   "metadata": {},
   "source": [
    "# 템플릿 실행 요청"
   ]
  },
  {
   "cell_type": "code",
   "execution_count": 12,
   "id": "b07a61c6",
   "metadata": {},
   "outputs": [
    {
     "name": "stdout",
     "output_type": "stream",
     "text": [
      "{'sender_name': '김철수', 'title': '오늘의 회의록', 'content': '오늘 회의록을 보내드립니다. 내용은 첨부파일을 확인해 주세요.'}\n"
     ]
    }
   ],
   "source": [
    "# llm에 prompt 보내기\n",
    "response = llm.invoke(prompt)\n",
    "\n",
    "# 응답 받은 결과를 parser로 파싱하기\n",
    "parsed_output = parser.invoke(response)\n",
    "print(parsed_output)"
   ]
  },
  {
   "cell_type": "markdown",
   "id": "7304443a",
   "metadata": {},
   "source": [
    "# LCEL로 실행\n",
    "\n",
    "- LCEL(LangChain Expression Language)"
   ]
  },
  {
   "cell_type": "code",
   "execution_count": 13,
   "id": "3cae1ad3",
   "metadata": {},
   "outputs": [],
   "source": [
    "# chain = 프롬프트템플릿 | llm_모델 | 파서 \n",
    "# chain.invoke({\"변수\": \"질문\"})\n",
    "chain = prompt_template | llm | parser\n",
    "\n",
    "email = \"보내는 사람: 김철수\\n제목: 오늘의 회의록\\n내용: 오늘 회의록을 보내드립니다. 내용은 첨부파일을 확인해 주세요.\"\n",
    "\n",
    "response = chain.invoke({\"email\":email})"
   ]
  },
  {
   "cell_type": "code",
   "execution_count": 14,
   "id": "2b16f152",
   "metadata": {},
   "outputs": [
    {
     "data": {
      "text/plain": [
       "{'sender_name': '김철수',\n",
       " 'title': '오늘의 회의록',\n",
       " 'content': '오늘 회의록을 보내드립니다. 내용은 첨부파일을 확인해 주세요.'}"
      ]
     },
     "execution_count": 14,
     "metadata": {},
     "output_type": "execute_result"
    }
   ],
   "source": [
    "response"
   ]
  },
  {
   "cell_type": "code",
   "execution_count": null,
   "id": "9abb70b2",
   "metadata": {},
   "outputs": [],
   "source": []
  }
 ],
 "metadata": {
  "kernelspec": {
   "display_name": "lc_env",
   "language": "python",
   "name": "python3"
  },
  "language_info": {
   "codemirror_mode": {
    "name": "ipython",
    "version": 3
   },
   "file_extension": ".py",
   "mimetype": "text/x-python",
   "name": "python",
   "nbconvert_exporter": "python",
   "pygments_lexer": "ipython3",
   "version": "3.12.11"
  }
 },
 "nbformat": 4,
 "nbformat_minor": 5
}
